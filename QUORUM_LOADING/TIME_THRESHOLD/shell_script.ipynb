{
 "cells": [
  {
   "cell_type": "markdown",
   "metadata": {},
   "source": [
    "## Bash script to run sim many times"
   ]
  },
  {
   "cell_type": "code",
   "execution_count": 3,
   "metadata": {},
   "outputs": [
    {
     "name": "stdout",
     "output_type": "stream",
     "text": [
      "Generating new data frame...\n",
      "0\n",
      "1\n",
      "2\n",
      "3\n",
      "4\n",
      "5\n",
      "6\n",
      "7\n",
      "8\n",
      "9\n",
      "10\n",
      "11\n",
      "12\n",
      "13\n",
      "14\n",
      "15\n",
      "16\n",
      "17\n",
      "18\n",
      "19\n",
      "20\n",
      "21\n",
      "22\n",
      "23\n",
      "24\n",
      "25\n",
      "26\n",
      "27\n",
      "28\n",
      "29\n",
      "30\n",
      "31\n",
      "32\n",
      "33\n",
      "34\n",
      "35\n",
      "36\n",
      "37\n",
      "38\n",
      "39\n",
      "40\n",
      "41\n",
      "42\n",
      "43\n",
      "44\n",
      "45\n",
      "46\n",
      "47\n",
      "48\n",
      "49\n",
      "50\n"
     ]
    },
    {
     "name": "stderr",
     "output_type": "stream",
     "text": [
      "RUNTIME ERROR: INVALID CROSSOVER TIME\n",
      "RUNTIME ERROR: RECRUITER UPDATE WITHOUT VALID RECRUITER.\n",
      "RUNTIME ERROR: INVALID CROSSOVER TIME\n",
      "RUNTIME ERROR: INVALID CROSSOVER TIME\n",
      "RUNTIME ERROR: RECRUITER UPDATE WITHOUT VALID RECRUITER.\n",
      "RUNTIME ERROR: INVALID CROSSOVER TIME\n",
      "RUNTIME ERROR: INVALID CROSSOVER TIME\n",
      "RUNTIME ERROR: RECRUITER UPDATE WITHOUT VALID RECRUITER.\n",
      "RUNTIME ERROR: RECRUITER UPDATE WITHOUT VALID RECRUITER.\n",
      "RUNTIME ERROR: INVALID CROSSOVER TIME\n",
      "RUNTIME ERROR: INVALID CROSSOVER TIME\n",
      "RUNTIME ERROR: INVALID CROSSOVER TIME\n",
      "RUNTIME ERROR: INVALID CROSSOVER TIME\n",
      "RUNTIME ERROR: RECRUITER UPDATE WITHOUT VALID RECRUITER.\n",
      "RUNTIME ERROR: INVALID CROSSOVER TIME\n",
      "RUNTIME ERROR: INVALID CROSSOVER TIME\n",
      "RUNTIME ERROR: RECRUITER UPDATE WITHOUT VALID RECRUITER.\n",
      "RUNTIME ERROR: INVALID CROSSOVER TIME\n",
      "RUNTIME ERROR: INVALID CROSSOVER TIME\n",
      "RUNTIME ERROR: INVALID CROSSOVER TIME\n",
      "RUNTIME ERROR: INVALID CROSSOVER TIME\n",
      "RUNTIME ERROR: RECRUITER UPDATE WITHOUT VALID RECRUITER.\n",
      "RUNTIME ERROR: INVALID CROSSOVER TIME\n",
      "RUNTIME ERROR: RECRUITER UPDATE WITHOUT VALID RECRUITER.\n",
      "RUNTIME ERROR: RECRUITER UPDATE WITHOUT VALID RECRUITER.\n",
      "RUNTIME ERROR: INVALID CROSSOVER TIME\n",
      "RUNTIME ERROR: RECRUITER UPDATE WITHOUT VALID RECRUITER.\n",
      "RUNTIME ERROR: INVALID CROSSOVER TIME\n",
      "RUNTIME ERROR: OVERLAP ERROR\n"
     ]
    }
   ],
   "source": [
    "%%bash\n",
    "\n",
    "g++ -std=c++11 main.cpp functions.cpp -o run_sim.exe\n",
    "\n",
    "# Delete any existing data fram\n",
    "if [ -f dataframe.txt ]; then\n",
    "    rm dataframe.txt\n",
    "    echo \"Deleted old data frame\"\n",
    "fi\n",
    "\n",
    "echo \"Generating new data frame...\"\n",
    "for i in {0..50..1}\n",
    "do\n",
    "echo $i\n",
    "for j in {1..50..1}\n",
    "do\n",
    "#echo $j\n",
    "./run_sim.exe $i 1 >> dataframe.txt\n",
    "done\n",
    "done\n",
    "\n",
    "say program is done"
   ]
  },
  {
   "cell_type": "code",
   "execution_count": null,
   "metadata": {
    "collapsed": true
   },
   "outputs": [],
   "source": []
  },
  {
   "cell_type": "code",
   "execution_count": null,
   "metadata": {
    "collapsed": true
   },
   "outputs": [],
   "source": []
  }
 ],
 "metadata": {
  "kernelspec": {
   "display_name": "Python 3",
   "language": "python",
   "name": "python3"
  },
  "language_info": {
   "codemirror_mode": {
    "name": "ipython",
    "version": 3
   },
   "file_extension": ".py",
   "mimetype": "text/x-python",
   "name": "python",
   "nbconvert_exporter": "python",
   "pygments_lexer": "ipython3",
   "version": "3.7.4"
  }
 },
 "nbformat": 4,
 "nbformat_minor": 1
}
