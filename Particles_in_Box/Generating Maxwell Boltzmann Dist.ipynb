{
 "cells": [
  {
   "cell_type": "code",
   "execution_count": 11,
   "metadata": {
    "collapsed": false
   },
   "outputs": [
    {
     "data": {
      "image/png": "[encoded data removed]",
      "text/plain": [
       "<matplotlib.figure.Figure at 0x103f2d050>"
      ]
     },
     "metadata": {},
     "output_type": "display_data"
    }
   ],
   "source": [
    "import numpy as np\n",
    "import matplotlib.pyplot as plt\n",
    "import seaborn as sns\n",
    "import scipy\n",
    "from scipy.stats import maxwell\n",
    "%matplotlib inline\n",
    "\n",
    "N = 100000\n",
    "T = 1.0\n",
    "v = np.zeros(N)  ## Empty array to store particle velocities\n",
    "\n",
    "# Generate dist using gaussian dist\n",
    "for i in range(N):\n",
    "    v_x = np.sqrt(T)*np.random.normal()\n",
    "    v_y = np.sqrt(T)*np.random.normal()\n",
    "    v_z = np.sqrt(T)*np.random.normal()\n",
    "    v[i] = np.sqrt(v_x**2+v_y**2+v_z**2)\n",
    "\n",
    "# Get known dist\n",
    "r = maxwell.rvs(size=N)\n",
    "\n",
    "# Compare\n",
    "plt.hist(v,bins=50,color='purple',alpha=0.5)\n",
    "plt.hist(r,bins=50,color='green',alpha=0.5)\n",
    "plt.show()"
   ]
  },
  {
   "cell_type": "code",
   "execution_count": null,
   "metadata": {
    "collapsed": true
   },
   "outputs": [],
   "source": []
  }
 ],
 "metadata": {
  "kernelspec": {
   "display_name": "Python 2",
   "language": "python",
   "name": "python2"
  },
  "language_info": {
   "codemirror_mode": {
    "name": "ipython",
    "version": 2
   },
   "file_extension": ".py",
   "mimetype": "text/x-python",
   "name": "python",
   "nbconvert_exporter": "python",
   "pygments_lexer": "ipython2",
   "version": "2.7.11"
  }
 },
 "nbformat": 4,
 "nbformat_minor": 0
}
