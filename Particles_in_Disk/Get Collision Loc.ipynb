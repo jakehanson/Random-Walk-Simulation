{
 "cells": [
  {
   "cell_type": "markdown",
   "metadata": {},
   "source": [
    "## Notebook to determine how wall collisions should be handled"
   ]
  },
  {
   "cell_type": "code",
   "execution_count": 4,
   "metadata": {
    "collapsed": false
   },
   "outputs": [
    {
     "name": "stdout",
     "output_type": "stream",
     "text": [
      "Correct % of Cases:  1.0\n"
     ]
    },
    {
     "data": {
      "image/png": "[encoded data removed]",
      "text/plain": [
       "<matplotlib.figure.Figure at 0x109699990>"
      ]
     },
     "metadata": {},
     "output_type": "display_data"
    }
   ],
   "source": [
    "import numpy as np\n",
    "import matplotlib.pyplot as plt\n",
    "import seaborn as sns\n",
    "%matplotlib inline\n",
    "\n",
    "## init particle\n",
    "r_enc = 0.1\n",
    "R = 2\n",
    "v_x = -1+2*np.random.rand()  # somewhere between -1 and 1\n",
    "v_y = -1+2*np.random.rand()\n",
    "\n",
    "## Init Disk\n",
    "N_points = 100\n",
    "x_data = np.zeros((100))\n",
    "y_data = np.zeros((100))\n",
    "for i in range(N_points):\n",
    "    x_data[i] = R*np.cos(i*2*np.pi/N_points)\n",
    "    y_data[i] = R*np.sin(i*2*np.pi/N_points)\n",
    "    \n",
    "tick = 0\n",
    "n_tries = 1000\n",
    "for j in range(n_tries):\n",
    "    ## Place Particle\n",
    "    radius = np.random.rand()*(R-r_enc)\n",
    "    theta = np.random.rand()*(2*np.pi)\n",
    "    x = radius*np.cos(theta)\n",
    "    y = radius*np.sin(theta)\n",
    "\n",
    "    t1 = (-1*(x*v_x+y*v_y)+np.sqrt((x*v_x+y*v_y)**2-(v_x**2+v_y**2)*(x**2+y**2-(R-r_enc)**2)))/(v_x**2+v_y**2)\n",
    "    #t2 = (-1*(x*v_x+y*v_y)-np.sqrt((x*v_x+y*v_y)**2-(v_x**2+v_y**2)*(x**2+y**2-(R-r_enc)**2)))/(v_x**2+v_y**2)\n",
    "\n",
    "    t = t1\n",
    "    #if t1 >= 0:\n",
    "    #    t = t1\n",
    "    #else:\n",
    "    #    t = t2\n",
    "\n",
    "    x_new = x+v_x*t\n",
    "    y_new = y+v_y*t\n",
    "\n",
    "    ## Get particle location after reflection\n",
    "    if (x >= 0 and y >= 0) or (x >= 0 and y < 0):\n",
    "        angle1 = np.arctan(y_new/x_new)\n",
    "        angle2 = np.arctan(y/x)\n",
    "    else:\n",
    "        angle1 = np.pi+np.arctan(y_new/x_new)\n",
    "        angle2 = np.pi+np.arctan(y/x)\n",
    "        \n",
    "#    diff = angle1-angle2\n",
    "    final = 2*angle1-angle2\n",
    "    x_f = np.sqrt(x**2+y**2)*np.cos(final)\n",
    "    y_f = np.sqrt(x**2+y**2)*np.sin(final)\n",
    "    vx_f = (x_f-x_new)/t\n",
    "    vy_f = (y_f-y_new)/t\n",
    "\n",
    "    dist_before = np.sqrt((x_new-x)**2+(y_new-y)**2)\n",
    "    dist_after = np.sqrt((x_f-x_new)**2+(y_f-y_new)**2)\n",
    "    if np.isclose(dist_before,dist_after):\n",
    "        tick = tick + 1\n",
    "        #print 'Correct'\n",
    "\n",
    "print 'Correct % of Cases: ',tick/float(n_tries)\n",
    "#print 'Velocity Before: ', np.sqrt(v_x**2+v_y**2)\n",
    "#print 'Velocity After: ', np.sqrt(vx_f**2+vy_f**2)\n",
    "ax = plt.axes()\n",
    "ax.arrow(x,y,v_x,v_y,head_width=0.05,head_length=0.1)  # Draw velocity\n",
    "ax.arrow(x_new,y_new,vx_f,vy_f,head_width=0.05,head_length=0.1)  # Draw velocity\n",
    "plt.plot(x_data,y_data)\n",
    "plt.scatter(x,y,color='orange',s=100)\n",
    "plt.scatter(x_new,y_new,color='teal',s=100)\n",
    "plt.scatter(x_f,y_f,color='red',s=100)\n",
    "plt.xlim((-2,2))\n",
    "plt.ylim((-2,2))\n",
    "plt.axes().set_aspect('equal', 'datalim')"
   ]
  },
  {
   "cell_type": "code",
   "execution_count": null,
   "metadata": {
    "collapsed": true
   },
   "outputs": [],
   "source": []
  }
 ],
 "metadata": {
  "kernelspec": {
   "display_name": "Python 2",
   "language": "python",
   "name": "python2"
  },
  "language_info": {
   "codemirror_mode": {
    "name": "ipython",
    "version": 2
   },
   "file_extension": ".py",
   "mimetype": "text/x-python",
   "name": "python",
   "nbconvert_exporter": "python",
   "pygments_lexer": "ipython2",
   "version": "2.7.11"
  }
 },
 "nbformat": 4,
 "nbformat_minor": 0
}
