{
 "cells": [
  {
   "cell_type": "markdown",
   "metadata": {},
   "source": [
    "## Bash script to run sim many times"
   ]
  },
  {
   "cell_type": "code",
   "execution_count": 1,
   "metadata": {},
   "outputs": [
    {
     "name": "stdout",
     "output_type": "stream",
     "text": [
      "Generating new data frame...\n",
      "11\n",
      "10\n",
      "9\n",
      "8\n",
      "7\n",
      "6\n",
      "5\n",
      "4\n",
      "3\n",
      "Done.\n"
     ]
    }
   ],
   "source": [
    "%%bash\n",
    "\n",
    "g++ -std=c++11 main.cpp functions.cpp -o run_sim.exe\n",
    "\n",
    "# Delete any existing data fram\n",
    "if [ -f dataframe.txt ]; then\n",
    "    rm dataframe.txt\n",
    "    echo \"Deleted old data frame\"\n",
    "fi\n",
    "\n",
    "echo \"Generating new data frame...\"\n",
    "for i in {11..3..-1}\n",
    "do\n",
    "echo $i\n",
    "for j in {1..10}\n",
    "do\n",
    "./run_sim.exe $i >> dataframe.txt\n",
    "done\n",
    "done\n",
    "\n",
    "echo \"Done.\""
   ]
  },
  {
   "cell_type": "code",
   "execution_count": null,
   "metadata": {
    "collapsed": true
   },
   "outputs": [],
   "source": []
  }
 ],
 "metadata": {
  "kernelspec": {
   "display_name": "Python 2",
   "language": "python",
   "name": "python2"
  },
  "language_info": {
   "codemirror_mode": {
    "name": "ipython",
    "version": 2
   },
   "file_extension": ".py",
   "mimetype": "text/x-python",
   "name": "python",
   "nbconvert_exporter": "python",
   "pygments_lexer": "ipython2",
   "version": "2.7.13"
  }
 },
 "nbformat": 4,
 "nbformat_minor": 1
}
