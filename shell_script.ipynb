{
 "cells": [
  {
   "cell_type": "markdown",
   "metadata": {},
   "source": [
    "## Bash script to run sim many times"
   ]
  },
  {
   "cell_type": "code",
   "execution_count": null,
   "metadata": {},
   "outputs": [],
   "source": [
    "%%bash\n",
    "\n",
    "g++ -std=c++11 main.cpp functions.cpp -o run_sim.exe\n",
    "\n",
    "# Delete any existing data fram\n",
    "if [ -f dataframe.txt ]; then\n",
    "    rm dataframe.txt\n",
    "    echo \"Deleted old data frame\"\n",
    "fi\n",
    "\n",
    "echo \"Generating new data frame...\"\n",
    "for i in {11..3..-1}\n",
    "do\n",
    "echo $i\n",
    "for j in {1..10}\n",
    "do\n",
    "./run_sim.exe $i >> dataframe.txt\n",
    "done\n",
    "done\n",
    "\n",
    "echo \"Done.\""
   ]
  },
  {
   "cell_type": "code",
   "execution_count": null,
   "metadata": {},
   "outputs": [],
   "source": []
  }
 ],
 "metadata": {
  "kernelspec": {
   "display_name": "Python 3",
   "language": "python",
   "name": "python3"
  },
  "language_info": {
   "codemirror_mode": {
    "name": "ipython",
    "version": 3
   },
   "file_extension": ".py",
   "mimetype": "text/x-python",
   "name": "python",
   "nbconvert_exporter": "python",
   "pygments_lexer": "ipython3",
   "version": "3.7.4"
  }
 },
 "nbformat": 4,
 "nbformat_minor": 1
}
